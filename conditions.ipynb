{
 "cells": [
  {
   "cell_type": "markdown",
   "metadata": {},
   "source": [
    "Conditional Statement\n",
    "- If\n",
    "- If else\n",
    "- Elif\n",
    "- Nested if"
   ]
  },
  {
   "cell_type": "code",
   "execution_count": 1,
   "metadata": {},
   "outputs": [
    {
     "name": "stdout",
     "output_type": "stream",
     "text": [
      "b is greater than a\n",
      "c is greater than a\n",
      "c is greater than b\n"
     ]
    }
   ],
   "source": [
    "a=10\n",
    "b=20\n",
    "c=30\n",
    "if a>b:\n",
    "    print(\"a is greater than b\")\n",
    "if a>c:\n",
    "    print(\"a is greater than c\")\n",
    "if b>c:\n",
    "    print(\"b is greater than c\")\n",
    "if b>a:\n",
    "    print(\"b is greater than a\")\n",
    "if c>a:\n",
    "    print(\"c is greater than a\")\n",
    "if c>b:\n",
    "    print(\"c is greater than b\")\n",
    "    "
   ]
  },
  {
   "cell_type": "code",
   "execution_count": 3,
   "metadata": {},
   "outputs": [
    {
     "name": "stdout",
     "output_type": "stream",
     "text": [
      "you are eligible to vote\n"
     ]
    }
   ],
   "source": [
    "age=int(input(\"enter your age\"))\n",
    "if age>18:\n",
    "    print(\"you are eligible to vote\")\n",
    "else:\n",
    "    print(\"you are not eligible to vote\")\n"
   ]
  },
  {
   "cell_type": "code",
   "execution_count": 4,
   "metadata": {},
   "outputs": [
    {
     "name": "stdout",
     "output_type": "stream",
     "text": [
      "b is greater than a\n"
     ]
    }
   ],
   "source": [
    "a=10\n",
    "b=20\n",
    "c=30\n",
    "if a>b:\n",
    "    print(\"a is greater than b\")\n",
    "elif a>c:\n",
    "    print(\"a is greater than c\")\n",
    "elif b>c:\n",
    "    print(\"b is greater than c\")\n",
    "elif b>a:\n",
    "    print(\"b is greater than a\")\n",
    "elif c>a:\n",
    "    print(\"c is greater than a\")\n",
    "elif c>b:\n",
    "    print(\"c is greater than b\")\n",
    "else:\n",
    "    print(\"Invalid number\")"
   ]
  },
  {
   "cell_type": "code",
   "execution_count": 5,
   "metadata": {},
   "outputs": [
    {
     "name": "stdout",
     "output_type": "stream",
     "text": [
      "a is positive\n"
     ]
    }
   ],
   "source": [
    "a=int(input(\"enter a number\"))\n",
    "if a>0:\n",
    "    print(\"a is positive\")\n",
    "else:\n",
    "    print(\"a is negative\")"
   ]
  },
  {
   "cell_type": "code",
   "execution_count": 1,
   "metadata": {},
   "outputs": [
    {
     "name": "stdout",
     "output_type": "stream",
     "text": [
      "it is a consonant\n"
     ]
    }
   ],
   "source": [
    "char=input(\"enter a character\")\n",
    "if char=='a' or char== 'e' or char=='i' or char=='o' or char=='u':\n",
    "    print(\"it is a vowel\")\n",
    "else:\n",
    "    print(\"it is a consonant\")\n"
   ]
  },
  {
   "cell_type": "code",
   "execution_count": 3,
   "metadata": {},
   "outputs": [
    {
     "name": "stdout",
     "output_type": "stream",
     "text": [
      "it is a vowel\n"
     ]
    }
   ],
   "source": [
    "char=input(\"enter a character\")\n",
    "#lst=['a','e','i','o','u']\n",
    "lst=\"aeiou\"\n",
    "if char in lst:\n",
    "    print(\"it is a vowel\")\n",
    "else:\n",
    "    print(\"it is a consonant\")"
   ]
  },
  {
   "cell_type": "code",
   "execution_count": 6,
   "metadata": {},
   "outputs": [
    {
     "name": "stdout",
     "output_type": "stream",
     "text": [
      "it is a scalene triangle\n"
     ]
    }
   ],
   "source": [
    "a=int(input(\"enter a side\"))\n",
    "b=int(input(\"enter a side\"))\n",
    "c=int(input(\"enter a side\"))\n",
    "if a==b==c:\n",
    "    print(\"it is an equilateral triangle\")\n",
    "elif a==b or b==c or c==a:\n",
    "    print(\"it is an isosceles triangle\")\n",
    "else:\n",
    "    print(\"it is a scalene triangle\")\n"
   ]
  },
  {
   "cell_type": "markdown",
   "metadata": {},
   "source": [
    "Nested if"
   ]
  },
  {
   "cell_type": "code",
   "execution_count": 6,
   "metadata": {},
   "outputs": [
    {
     "name": "stdout",
     "output_type": "stream",
     "text": [
      "Excellent\n"
     ]
    }
   ],
   "source": [
    "marks=int(input(\"enter your marks\"))\n",
    "if marks>50:\n",
    "    if marks>75:\n",
    "        if marks>90:\n",
    "            print(\"Excellent\")\n",
    "        else:\n",
    "            print(\"Very Good\")\n",
    "    else:\n",
    "        print(\"Good\")\n",
    "else:\n",
    "    print(\"Poor\")"
   ]
  },
  {
   "cell_type": "code",
   "execution_count": 9,
   "metadata": {},
   "outputs": [
    {
     "name": "stdout",
     "output_type": "stream",
     "text": [
      " zero\n"
     ]
    }
   ],
   "source": [
    "a=int(input(\"enter a number\"))\n",
    "if a>=0:\n",
    "    if a==0:\n",
    "        print(\" zero\")\n",
    "    else:\n",
    "        print(\"positive\")\n",
    "else:\n",
    "    print(\"negative\")"
   ]
  }
 ],
 "metadata": {
  "kernelspec": {
   "display_name": "Python 3",
   "language": "python",
   "name": "python3"
  },
  "language_info": {
   "codemirror_mode": {
    "name": "ipython",
    "version": 3
   },
   "file_extension": ".py",
   "mimetype": "text/x-python",
   "name": "python",
   "nbconvert_exporter": "python",
   "pygments_lexer": "ipython3",
   "version": "3.11.4"
  },
  "orig_nbformat": 4
 },
 "nbformat": 4,
 "nbformat_minor": 2
}
